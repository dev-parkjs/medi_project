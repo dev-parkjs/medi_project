{
 "cells": [
  {
   "cell_type": "code",
   "execution_count": 1,
   "metadata": {},
   "outputs": [],
   "source": [
    "import os\n",
    "import shutil\n",
    "import json"
   ]
  },
  {
   "cell_type": "code",
   "execution_count": 2,
   "metadata": {},
   "outputs": [],
   "source": [
    "size = 250\n",
    "json_path = '/Users/parkjisook/Desktop/yeardream/medistream/js/new_json/naverplace_meta_all.json'\n",
    "save_dir = '/Users/parkjisook/Desktop/yeardream/medistream/js/new_json/naverplace_meta'"
   ]
  },
  {
   "cell_type": "code",
   "execution_count": 3,
   "metadata": {},
   "outputs": [],
   "source": [
    "### manage save_dir\n",
    "if os.path.exists(save_dir):\n",
    "    shutil.rmtree(save_dir)\n",
    "os.makedirs(save_dir)"
   ]
  },
  {
   "cell_type": "code",
   "execution_count": 4,
   "metadata": {},
   "outputs": [
    {
     "name": "stdout",
     "output_type": "stream",
     "text": [
      "Load /Users/parkjisook/Desktop/yeardream/medistream/js/new_json/naverplace_meta_all.json\n"
     ]
    }
   ],
   "source": [
    "### load json\n",
    "with open(json_path) as f:\n",
    "    json_file = json.load(f)\n",
    "    print(f\"Load {json_path}\")"
   ]
  },
  {
   "cell_type": "code",
   "execution_count": 5,
   "metadata": {},
   "outputs": [],
   "source": [
    "### splitted json generator\n",
    "def generate_json(json_list):\n",
    "    json_dict = {'ROOT_QUERY': [], 'Hospital': []}\n",
    "    for item in json_list:\n",
    "        for key, value in item.items():\n",
    "            if key.startswith(\"ROOT_QUERY\"):\n",
    "                json_dict['ROOT_QUERY'].append(value)\n",
    "            elif key.startswith(\"HospitalBase:\"):\n",
    "                json_dict['Hospital'].append(value)\n",
    "    return json_dict"
   ]
  },
  {
   "cell_type": "code",
   "execution_count": 6,
   "metadata": {},
   "outputs": [
    {
     "name": "stdout",
     "output_type": "stream",
     "text": [
      "Save /Users/parkjisook/Desktop/yeardream/medistream/js/new_json/naverplace_meta/naverplace_meta_1.json\n",
      "Save /Users/parkjisook/Desktop/yeardream/medistream/js/new_json/naverplace_meta/naverplace_meta_2.json\n",
      "Save /Users/parkjisook/Desktop/yeardream/medistream/js/new_json/naverplace_meta/naverplace_meta_3.json\n",
      "Save /Users/parkjisook/Desktop/yeardream/medistream/js/new_json/naverplace_meta/naverplace_meta_4.json\n",
      "Save /Users/parkjisook/Desktop/yeardream/medistream/js/new_json/naverplace_meta/naverplace_meta_5.json\n",
      "Save /Users/parkjisook/Desktop/yeardream/medistream/js/new_json/naverplace_meta/naverplace_meta_6.json\n",
      "Save /Users/parkjisook/Desktop/yeardream/medistream/js/new_json/naverplace_meta/naverplace_meta_7.json\n",
      "Save /Users/parkjisook/Desktop/yeardream/medistream/js/new_json/naverplace_meta/naverplace_meta_8.json\n",
      "Save /Users/parkjisook/Desktop/yeardream/medistream/js/new_json/naverplace_meta/naverplace_meta_9.json\n",
      "Save /Users/parkjisook/Desktop/yeardream/medistream/js/new_json/naverplace_meta/naverplace_meta_10.json\n",
      "Save /Users/parkjisook/Desktop/yeardream/medistream/js/new_json/naverplace_meta/naverplace_meta_11.json\n",
      "Save /Users/parkjisook/Desktop/yeardream/medistream/js/new_json/naverplace_meta/naverplace_meta_12.json\n",
      "Save /Users/parkjisook/Desktop/yeardream/medistream/js/new_json/naverplace_meta/naverplace_meta_13.json\n",
      "Save /Users/parkjisook/Desktop/yeardream/medistream/js/new_json/naverplace_meta/naverplace_meta_14.json\n",
      "Save /Users/parkjisook/Desktop/yeardream/medistream/js/new_json/naverplace_meta/naverplace_meta_15.json\n",
      "Save /Users/parkjisook/Desktop/yeardream/medistream/js/new_json/naverplace_meta/naverplace_meta_16.json\n",
      "Save /Users/parkjisook/Desktop/yeardream/medistream/js/new_json/naverplace_meta/naverplace_meta_17.json\n",
      "Save /Users/parkjisook/Desktop/yeardream/medistream/js/new_json/naverplace_meta/naverplace_meta_18.json\n",
      "Save /Users/parkjisook/Desktop/yeardream/medistream/js/new_json/naverplace_meta/naverplace_meta_19.json\n",
      "Save /Users/parkjisook/Desktop/yeardream/medistream/js/new_json/naverplace_meta/naverplace_meta_20.json\n",
      "Save /Users/parkjisook/Desktop/yeardream/medistream/js/new_json/naverplace_meta/naverplace_meta_21.json\n",
      "Save /Users/parkjisook/Desktop/yeardream/medistream/js/new_json/naverplace_meta/naverplace_meta_22.json\n",
      "Save /Users/parkjisook/Desktop/yeardream/medistream/js/new_json/naverplace_meta/naverplace_meta_23.json\n",
      "Save /Users/parkjisook/Desktop/yeardream/medistream/js/new_json/naverplace_meta/naverplace_meta_24.json\n",
      "Save /Users/parkjisook/Desktop/yeardream/medistream/js/new_json/naverplace_meta/naverplace_meta_25.json\n",
      "Save /Users/parkjisook/Desktop/yeardream/medistream/js/new_json/naverplace_meta/naverplace_meta_26.json\n",
      "Save /Users/parkjisook/Desktop/yeardream/medistream/js/new_json/naverplace_meta/naverplace_meta_27.json\n",
      "Save /Users/parkjisook/Desktop/yeardream/medistream/js/new_json/naverplace_meta/naverplace_meta_28.json\n",
      "Save /Users/parkjisook/Desktop/yeardream/medistream/js/new_json/naverplace_meta/naverplace_meta_29.json\n",
      "Save /Users/parkjisook/Desktop/yeardream/medistream/js/new_json/naverplace_meta/naverplace_meta_30.json\n",
      "Save /Users/parkjisook/Desktop/yeardream/medistream/js/new_json/naverplace_meta/naverplace_meta_31.json\n",
      "Save /Users/parkjisook/Desktop/yeardream/medistream/js/new_json/naverplace_meta/naverplace_meta_32.json\n",
      "Save /Users/parkjisook/Desktop/yeardream/medistream/js/new_json/naverplace_meta/naverplace_meta_33.json\n",
      "Save /Users/parkjisook/Desktop/yeardream/medistream/js/new_json/naverplace_meta/naverplace_meta_34.json\n",
      "Save /Users/parkjisook/Desktop/yeardream/medistream/js/new_json/naverplace_meta/naverplace_meta_35.json\n",
      "Save /Users/parkjisook/Desktop/yeardream/medistream/js/new_json/naverplace_meta/naverplace_meta_36.json\n",
      "Save /Users/parkjisook/Desktop/yeardream/medistream/js/new_json/naverplace_meta/naverplace_meta_37.json\n",
      "Save /Users/parkjisook/Desktop/yeardream/medistream/js/new_json/naverplace_meta/naverplace_meta_38.json\n",
      "Save /Users/parkjisook/Desktop/yeardream/medistream/js/new_json/naverplace_meta/naverplace_meta_39.json\n",
      "Save /Users/parkjisook/Desktop/yeardream/medistream/js/new_json/naverplace_meta/naverplace_meta_40.json\n",
      "Save /Users/parkjisook/Desktop/yeardream/medistream/js/new_json/naverplace_meta/naverplace_meta_41.json\n",
      "Save /Users/parkjisook/Desktop/yeardream/medistream/js/new_json/naverplace_meta/naverplace_meta_42.json\n",
      "Save /Users/parkjisook/Desktop/yeardream/medistream/js/new_json/naverplace_meta/naverplace_meta_43.json\n",
      "Save /Users/parkjisook/Desktop/yeardream/medistream/js/new_json/naverplace_meta/naverplace_meta_44.json\n",
      "Save /Users/parkjisook/Desktop/yeardream/medistream/js/new_json/naverplace_meta/naverplace_meta_45.json\n",
      "Save /Users/parkjisook/Desktop/yeardream/medistream/js/new_json/naverplace_meta/naverplace_meta_46.json\n",
      "Save /Users/parkjisook/Desktop/yeardream/medistream/js/new_json/naverplace_meta/naverplace_meta_47.json\n",
      "Save /Users/parkjisook/Desktop/yeardream/medistream/js/new_json/naverplace_meta/naverplace_meta_48.json\n",
      "Save /Users/parkjisook/Desktop/yeardream/medistream/js/new_json/naverplace_meta/naverplace_meta_49.json\n",
      "Save /Users/parkjisook/Desktop/yeardream/medistream/js/new_json/naverplace_meta/naverplace_meta_50.json\n",
      "Save /Users/parkjisook/Desktop/yeardream/medistream/js/new_json/naverplace_meta/naverplace_meta_51.json\n",
      "Save /Users/parkjisook/Desktop/yeardream/medistream/js/new_json/naverplace_meta/naverplace_meta_52.json\n",
      "Save /Users/parkjisook/Desktop/yeardream/medistream/js/new_json/naverplace_meta/naverplace_meta_53.json\n",
      "Save /Users/parkjisook/Desktop/yeardream/medistream/js/new_json/naverplace_meta/naverplace_meta_54.json\n",
      "Save /Users/parkjisook/Desktop/yeardream/medistream/js/new_json/naverplace_meta/naverplace_meta_55.json\n",
      "Save /Users/parkjisook/Desktop/yeardream/medistream/js/new_json/naverplace_meta/naverplace_meta_56.json\n",
      "Save /Users/parkjisook/Desktop/yeardream/medistream/js/new_json/naverplace_meta/naverplace_meta_57.json\n",
      "Save /Users/parkjisook/Desktop/yeardream/medistream/js/new_json/naverplace_meta/naverplace_meta_58.json\n",
      "Save /Users/parkjisook/Desktop/yeardream/medistream/js/new_json/naverplace_meta/naverplace_meta_59.json\n",
      "Save /Users/parkjisook/Desktop/yeardream/medistream/js/new_json/naverplace_meta/naverplace_meta_60.json\n",
      "Save /Users/parkjisook/Desktop/yeardream/medistream/js/new_json/naverplace_meta/naverplace_meta_61.json\n",
      "Save /Users/parkjisook/Desktop/yeardream/medistream/js/new_json/naverplace_meta/naverplace_meta_62.json\n",
      "Save /Users/parkjisook/Desktop/yeardream/medistream/js/new_json/naverplace_meta/naverplace_meta_63.json\n",
      "Save /Users/parkjisook/Desktop/yeardream/medistream/js/new_json/naverplace_meta/naverplace_meta_64.json\n",
      "Save /Users/parkjisook/Desktop/yeardream/medistream/js/new_json/naverplace_meta/naverplace_meta_65.json\n",
      "Save /Users/parkjisook/Desktop/yeardream/medistream/js/new_json/naverplace_meta/naverplace_meta_66.json\n",
      "Save /Users/parkjisook/Desktop/yeardream/medistream/js/new_json/naverplace_meta/naverplace_meta_67.json\n",
      "Save /Users/parkjisook/Desktop/yeardream/medistream/js/new_json/naverplace_meta/naverplace_meta_68.json\n",
      "Save /Users/parkjisook/Desktop/yeardream/medistream/js/new_json/naverplace_meta/naverplace_meta_69.json\n",
      "Save /Users/parkjisook/Desktop/yeardream/medistream/js/new_json/naverplace_meta/naverplace_meta_70.json\n"
     ]
    }
   ],
   "source": [
    "### save splitted json_dict\n",
    "for i in range(0, len(json_file), size):\n",
    "    idx = (i//size) + 1\n",
    "    save_path = f\"{save_dir}/naverplace_meta_{idx}.json\"\n",
    "    json_list = json_file[i:(i + size)]\n",
    "    json_dict = generate_json(json_list)\n",
    "    with open(save_path, 'w') as f:\n",
    "        json.dump(json_dict, f, ensure_ascii=False)\n",
    "        print(f\"Save {save_path}\")"
   ]
  },
  {
   "cell_type": "code",
   "execution_count": 7,
   "metadata": {},
   "outputs": [],
   "source": [
    "# path_1 = \"/Users/parkjisook/Desktop/yeardream/medistream/js/new_json/naverplace_meta/naverplace_meta_1.json\"\n",
    "\n",
    "# ### load json\n",
    "# with open(path_1, 'r') as f:\n",
    "#     json_1 = json.load(f)\n",
    "#     print(f\"Load {path_1}\")\n",
    "\n",
    "# json_1"
   ]
  },
  {
   "cell_type": "code",
   "execution_count": 8,
   "metadata": {},
   "outputs": [],
   "source": [
    "# test = [key for item in json_1 for key in item if key.startswith(\"Panorama:\")]\n",
    "# test"
   ]
  },
  {
   "cell_type": "code",
   "execution_count": 9,
   "metadata": {},
   "outputs": [],
   "source": [
    "# outer_dict = {}\n",
    "# outer_dict['Panorama'] = [json_1[0][\"Panorama:W1EwJzqUszLeqLU49rUU/w==\"], json_1[1][\"Panorama:bydPStvfMsdID2iv8PxqvA==\"]]\n",
    "# outer_dict['Hospital'] = [json_1[0][\"HospitalBase:11779766\"], json_1[1][\"HospitalBase:1934828030\"]]"
   ]
  },
  {
   "cell_type": "code",
   "execution_count": 10,
   "metadata": {},
   "outputs": [],
   "source": [
    "# p = '/Users/parkjisook/Desktop/yeardream/medistream/js/new_json/naverplace_meta/naverplace_meta_1.json'\n",
    "# with open(p, 'w') as f:\n",
    "#     json.dump(outer_dict, f, ensure_ascii=False)\n",
    "#     print(f\"saved {p}\")\n",
    "\n",
    "# test = [item for item in json_1 for key in item if key.startswith(\"Panorama:\")]\n",
    "# test"
   ]
  }
 ],
 "metadata": {
  "kernelspec": {
   "display_name": "base",
   "language": "python",
   "name": "python3"
  },
  "language_info": {
   "codemirror_mode": {
    "name": "ipython",
    "version": 3
   },
   "file_extension": ".py",
   "mimetype": "text/x-python",
   "name": "python",
   "nbconvert_exporter": "python",
   "pygments_lexer": "ipython3",
   "version": "3.10.13"
  }
 },
 "nbformat": 4,
 "nbformat_minor": 2
}
